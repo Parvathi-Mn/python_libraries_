{
  "nbformat": 4,
  "nbformat_minor": 0,
  "metadata": {
    "colab": {
      "provenance": []
    },
    "kernelspec": {
      "name": "python3",
      "display_name": "Python 3"
    },
    "language_info": {
      "name": "python"
    }
  },
  "cells": [
    {
      "cell_type": "markdown",
      "source": [
        "*here, after using the connect option in the nb, to check the cou info we are allocated, use the command below.*"
      ],
      "metadata": {
        "id": "UHPZ4dGG3DEc"
      }
    },
    {
      "cell_type": "code",
      "execution_count": null,
      "metadata": {
        "colab": {
          "base_uri": "https://localhost:8080/"
        },
        "id": "QbBN9ipi1zUe",
        "outputId": "51e850c5-e6ae-44af-a794-45a4079434e5"
      },
      "outputs": [
        {
          "output_type": "stream",
          "name": "stdout",
          "text": [
            "processor\t: 0\n",
            "vendor_id\t: GenuineIntel\n",
            "cpu family\t: 6\n",
            "model\t\t: 79\n",
            "model name\t: Intel(R) Xeon(R) CPU @ 2.20GHz\n",
            "stepping\t: 0\n",
            "microcode\t: 0xffffffff\n",
            "cpu MHz\t\t: 2199.998\n",
            "cache size\t: 56320 KB\n",
            "physical id\t: 0\n",
            "siblings\t: 2\n",
            "core id\t\t: 0\n",
            "cpu cores\t: 1\n",
            "apicid\t\t: 0\n",
            "initial apicid\t: 0\n",
            "fpu\t\t: yes\n",
            "fpu_exception\t: yes\n",
            "cpuid level\t: 13\n",
            "wp\t\t: yes\n",
            "flags\t\t: fpu vme de pse tsc msr pae mce cx8 apic sep mtrr pge mca cmov pat pse36 clflush mmx fxsr sse sse2 ss ht syscall nx pdpe1gb rdtscp lm constant_tsc rep_good nopl xtopology nonstop_tsc cpuid tsc_known_freq pni pclmulqdq ssse3 fma cx16 pcid sse4_1 sse4_2 x2apic movbe popcnt aes xsave avx f16c rdrand hypervisor lahf_lm abm 3dnowprefetch invpcid_single ssbd ibrs ibpb stibp fsgsbase tsc_adjust bmi1 hle avx2 smep bmi2 erms invpcid rtm rdseed adx smap xsaveopt arat md_clear arch_capabilities\n",
            "bugs\t\t: cpu_meltdown spectre_v1 spectre_v2 spec_store_bypass l1tf mds swapgs taa mmio_stale_data retbleed bhi\n",
            "bogomips\t: 4399.99\n",
            "clflush size\t: 64\n",
            "cache_alignment\t: 64\n",
            "address sizes\t: 46 bits physical, 48 bits virtual\n",
            "power management:\n",
            "\n",
            "processor\t: 1\n",
            "vendor_id\t: GenuineIntel\n",
            "cpu family\t: 6\n",
            "model\t\t: 79\n",
            "model name\t: Intel(R) Xeon(R) CPU @ 2.20GHz\n",
            "stepping\t: 0\n",
            "microcode\t: 0xffffffff\n",
            "cpu MHz\t\t: 2199.998\n",
            "cache size\t: 56320 KB\n",
            "physical id\t: 0\n",
            "siblings\t: 2\n",
            "core id\t\t: 0\n",
            "cpu cores\t: 1\n",
            "apicid\t\t: 1\n",
            "initial apicid\t: 1\n",
            "fpu\t\t: yes\n",
            "fpu_exception\t: yes\n",
            "cpuid level\t: 13\n",
            "wp\t\t: yes\n",
            "flags\t\t: fpu vme de pse tsc msr pae mce cx8 apic sep mtrr pge mca cmov pat pse36 clflush mmx fxsr sse sse2 ss ht syscall nx pdpe1gb rdtscp lm constant_tsc rep_good nopl xtopology nonstop_tsc cpuid tsc_known_freq pni pclmulqdq ssse3 fma cx16 pcid sse4_1 sse4_2 x2apic movbe popcnt aes xsave avx f16c rdrand hypervisor lahf_lm abm 3dnowprefetch invpcid_single ssbd ibrs ibpb stibp fsgsbase tsc_adjust bmi1 hle avx2 smep bmi2 erms invpcid rtm rdseed adx smap xsaveopt arat md_clear arch_capabilities\n",
            "bugs\t\t: cpu_meltdown spectre_v1 spectre_v2 spec_store_bypass l1tf mds swapgs taa mmio_stale_data retbleed bhi\n",
            "bogomips\t: 4399.99\n",
            "clflush size\t: 64\n",
            "cache_alignment\t: 64\n",
            "address sizes\t: 46 bits physical, 48 bits virtual\n",
            "power management:\n",
            "\n"
          ]
        }
      ],
      "source": [
        "!cat /proc/cpuinfo"
      ]
    },
    {
      "cell_type": "markdown",
      "source": [
        "to get the **RAM info**, code below\n"
      ],
      "metadata": {
        "id": "3oDkRbcA3d_j"
      }
    },
    {
      "cell_type": "code",
      "source": [
        "!cat /proc/meminfo"
      ],
      "metadata": {
        "colab": {
          "base_uri": "https://localhost:8080/"
        },
        "id": "pDT_6qyv28QM",
        "outputId": "1e0c99fb-10ee-4b8d-c52f-73f416e1f629"
      },
      "execution_count": null,
      "outputs": [
        {
          "output_type": "stream",
          "name": "stdout",
          "text": [
            "MemTotal:       13289424 kB\n",
            "MemFree:         8055468 kB\n",
            "MemAvailable:   12303052 kB\n",
            "Buffers:          418536 kB\n",
            "Cached:          4005412 kB\n",
            "SwapCached:            0 kB\n",
            "Active:           744656 kB\n",
            "Inactive:        4226644 kB\n",
            "Active(anon):       1416 kB\n",
            "Inactive(anon):   547860 kB\n",
            "Active(file):     743240 kB\n",
            "Inactive(file):  3678784 kB\n",
            "Unevictable:           8 kB\n",
            "Mlocked:               8 kB\n",
            "SwapTotal:             0 kB\n",
            "SwapFree:              0 kB\n",
            "Dirty:               308 kB\n",
            "Writeback:             0 kB\n",
            "AnonPages:        547420 kB\n",
            "Mapped:           326540 kB\n",
            "Shmem:              1916 kB\n",
            "KReclaimable:     132996 kB\n",
            "Slab:             172684 kB\n",
            "SReclaimable:     132996 kB\n",
            "SUnreclaim:        39688 kB\n",
            "KernelStack:        5216 kB\n",
            "PageTables:         8320 kB\n",
            "SecPageTables:         0 kB\n",
            "NFS_Unstable:          0 kB\n",
            "Bounce:                0 kB\n",
            "WritebackTmp:          0 kB\n",
            "CommitLimit:     6644712 kB\n",
            "Committed_AS:    2596628 kB\n",
            "VmallocTotal:   34359738367 kB\n",
            "VmallocUsed:       11848 kB\n",
            "VmallocChunk:          0 kB\n",
            "Percpu:             1096 kB\n",
            "HardwareCorrupted:     0 kB\n",
            "AnonHugePages:         0 kB\n",
            "ShmemHugePages:        0 kB\n",
            "ShmemPmdMapped:        0 kB\n",
            "FileHugePages:         0 kB\n",
            "FilePmdMapped:         0 kB\n",
            "CmaTotal:              0 kB\n",
            "CmaFree:               0 kB\n",
            "Unaccepted:            0 kB\n",
            "HugePages_Total:       0\n",
            "HugePages_Free:        0\n",
            "HugePages_Rsvd:        0\n",
            "HugePages_Surp:        0\n",
            "Hugepagesize:       2048 kB\n",
            "Hugetlb:               0 kB\n",
            "DirectMap4k:       66352 kB\n",
            "DirectMap2M:     5173248 kB\n",
            "DirectMap1G:    10485760 kB\n"
          ]
        }
      ]
    },
    {
      "cell_type": "markdown",
      "source": [
        " to ***install all the libraries*** needed for google colab\n",
        " 1. pandas"
      ],
      "metadata": {
        "id": "0u2x2kCE5M3B"
      }
    },
    {
      "cell_type": "code",
      "source": [
        "!pip install pandas"
      ],
      "metadata": {
        "colab": {
          "base_uri": "https://localhost:8080/"
        },
        "id": "WmfjzJWB3c_E",
        "outputId": "5ab548d6-26c7-4fd8-a614-edde6700c47a"
      },
      "execution_count": null,
      "outputs": [
        {
          "output_type": "stream",
          "name": "stdout",
          "text": [
            "Requirement already satisfied: pandas in /usr/local/lib/python3.11/dist-packages (2.2.2)\n",
            "Requirement already satisfied: numpy>=1.23.2 in /usr/local/lib/python3.11/dist-packages (from pandas) (2.0.2)\n",
            "Requirement already satisfied: python-dateutil>=2.8.2 in /usr/local/lib/python3.11/dist-packages (from pandas) (2.9.0.post0)\n",
            "Requirement already satisfied: pytz>=2020.1 in /usr/local/lib/python3.11/dist-packages (from pandas) (2025.2)\n",
            "Requirement already satisfied: tzdata>=2022.7 in /usr/local/lib/python3.11/dist-packages (from pandas) (2025.2)\n",
            "Requirement already satisfied: six>=1.5 in /usr/local/lib/python3.11/dist-packages (from python-dateutil>=2.8.2->pandas) (1.17.0)\n"
          ]
        }
      ]
    },
    {
      "cell_type": "code",
      "source": [
        "import pandas as pd"
      ],
      "metadata": {
        "id": "BH-Rl4Kv6Q6f"
      },
      "execution_count": null,
      "outputs": []
    },
    {
      "cell_type": "code",
      "source": [
        "df = pd.read_csv('/content/Soil Nutrients.csv')"
      ],
      "metadata": {
        "id": "IQFx_PJ26UQ5"
      },
      "execution_count": null,
      "outputs": []
    },
    {
      "cell_type": "code",
      "source": [
        "df.head()"
      ],
      "metadata": {
        "colab": {
          "base_uri": "https://localhost:8080/",
          "height": 261
        },
        "id": "1unUBGYT6yjR",
        "outputId": "c3d361b4-f452-4b19-b93e-9b0712181542"
      },
      "execution_count": null,
      "outputs": [
        {
          "output_type": "execute_result",
          "data": {
            "text/plain": [
              "         Name Fertility       Photoperiod  Temperature    Rainfall        pH  \\\n",
              "0  Strawberry  Moderate       Day Neutral    20.887923  747.860765  6.571548   \n",
              "1  Strawberry  Moderate       Day Neutral    18.062721  711.104329  6.251806   \n",
              "2  Strawberry  Moderate  Short Day Period    16.776782  774.038247  6.346916   \n",
              "3  Strawberry  Moderate  Short Day Period    14.281000  665.633506  6.259598   \n",
              "4  Strawberry  Moderate       Day Neutral    21.444490  806.531455  6.384368   \n",
              "\n",
              "   Light_Hours  Light_Intensity         Rh    Nitrogen  Phosphorus  \\\n",
              "0    13.091483       533.762876  91.197196  170.800381  118.670058   \n",
              "1    13.063016       505.789101  91.939623  179.290364  121.020244   \n",
              "2    12.945927       512.985617  91.387286  181.440732  116.936806   \n",
              "3    13.318922       484.860067  91.254598  176.165282  122.233153   \n",
              "4    13.312915       512.747307  92.354829  182.935334  126.088234   \n",
              "\n",
              "    Potassium      Yield Category_pH Soil_Type  Season  N_Ratio  P_Ratio  \\\n",
              "0  243.331211  20.369555  low_acidic      Loam  Summer     10.0     10.0   \n",
              "1  246.910378  20.402751  low_acidic      Loam  Spring     10.0     10.0   \n",
              "2  242.699601  19.158847  low_acidic      Loam  Summer     10.0     10.0   \n",
              "3  237.096892  20.265745  low_acidic      Loam  Summer     10.0     10.0   \n",
              "4  243.880364  20.397336  low_acidic      Loam  Spring     10.0     10.0   \n",
              "\n",
              "   K_Ratio  \n",
              "0     10.0  \n",
              "1     10.0  \n",
              "2     10.0  \n",
              "3     10.0  \n",
              "4     10.0  "
            ],
            "text/html": [
              "\n",
              "  <div id=\"df-0497e650-d329-4e18-b0d2-6c42c2016eeb\" class=\"colab-df-container\">\n",
              "    <div>\n",
              "<style scoped>\n",
              "    .dataframe tbody tr th:only-of-type {\n",
              "        vertical-align: middle;\n",
              "    }\n",
              "\n",
              "    .dataframe tbody tr th {\n",
              "        vertical-align: top;\n",
              "    }\n",
              "\n",
              "    .dataframe thead th {\n",
              "        text-align: right;\n",
              "    }\n",
              "</style>\n",
              "<table border=\"1\" class=\"dataframe\">\n",
              "  <thead>\n",
              "    <tr style=\"text-align: right;\">\n",
              "      <th></th>\n",
              "      <th>Name</th>\n",
              "      <th>Fertility</th>\n",
              "      <th>Photoperiod</th>\n",
              "      <th>Temperature</th>\n",
              "      <th>Rainfall</th>\n",
              "      <th>pH</th>\n",
              "      <th>Light_Hours</th>\n",
              "      <th>Light_Intensity</th>\n",
              "      <th>Rh</th>\n",
              "      <th>Nitrogen</th>\n",
              "      <th>Phosphorus</th>\n",
              "      <th>Potassium</th>\n",
              "      <th>Yield</th>\n",
              "      <th>Category_pH</th>\n",
              "      <th>Soil_Type</th>\n",
              "      <th>Season</th>\n",
              "      <th>N_Ratio</th>\n",
              "      <th>P_Ratio</th>\n",
              "      <th>K_Ratio</th>\n",
              "    </tr>\n",
              "  </thead>\n",
              "  <tbody>\n",
              "    <tr>\n",
              "      <th>0</th>\n",
              "      <td>Strawberry</td>\n",
              "      <td>Moderate</td>\n",
              "      <td>Day Neutral</td>\n",
              "      <td>20.887923</td>\n",
              "      <td>747.860765</td>\n",
              "      <td>6.571548</td>\n",
              "      <td>13.091483</td>\n",
              "      <td>533.762876</td>\n",
              "      <td>91.197196</td>\n",
              "      <td>170.800381</td>\n",
              "      <td>118.670058</td>\n",
              "      <td>243.331211</td>\n",
              "      <td>20.369555</td>\n",
              "      <td>low_acidic</td>\n",
              "      <td>Loam</td>\n",
              "      <td>Summer</td>\n",
              "      <td>10.0</td>\n",
              "      <td>10.0</td>\n",
              "      <td>10.0</td>\n",
              "    </tr>\n",
              "    <tr>\n",
              "      <th>1</th>\n",
              "      <td>Strawberry</td>\n",
              "      <td>Moderate</td>\n",
              "      <td>Day Neutral</td>\n",
              "      <td>18.062721</td>\n",
              "      <td>711.104329</td>\n",
              "      <td>6.251806</td>\n",
              "      <td>13.063016</td>\n",
              "      <td>505.789101</td>\n",
              "      <td>91.939623</td>\n",
              "      <td>179.290364</td>\n",
              "      <td>121.020244</td>\n",
              "      <td>246.910378</td>\n",
              "      <td>20.402751</td>\n",
              "      <td>low_acidic</td>\n",
              "      <td>Loam</td>\n",
              "      <td>Spring</td>\n",
              "      <td>10.0</td>\n",
              "      <td>10.0</td>\n",
              "      <td>10.0</td>\n",
              "    </tr>\n",
              "    <tr>\n",
              "      <th>2</th>\n",
              "      <td>Strawberry</td>\n",
              "      <td>Moderate</td>\n",
              "      <td>Short Day Period</td>\n",
              "      <td>16.776782</td>\n",
              "      <td>774.038247</td>\n",
              "      <td>6.346916</td>\n",
              "      <td>12.945927</td>\n",
              "      <td>512.985617</td>\n",
              "      <td>91.387286</td>\n",
              "      <td>181.440732</td>\n",
              "      <td>116.936806</td>\n",
              "      <td>242.699601</td>\n",
              "      <td>19.158847</td>\n",
              "      <td>low_acidic</td>\n",
              "      <td>Loam</td>\n",
              "      <td>Summer</td>\n",
              "      <td>10.0</td>\n",
              "      <td>10.0</td>\n",
              "      <td>10.0</td>\n",
              "    </tr>\n",
              "    <tr>\n",
              "      <th>3</th>\n",
              "      <td>Strawberry</td>\n",
              "      <td>Moderate</td>\n",
              "      <td>Short Day Period</td>\n",
              "      <td>14.281000</td>\n",
              "      <td>665.633506</td>\n",
              "      <td>6.259598</td>\n",
              "      <td>13.318922</td>\n",
              "      <td>484.860067</td>\n",
              "      <td>91.254598</td>\n",
              "      <td>176.165282</td>\n",
              "      <td>122.233153</td>\n",
              "      <td>237.096892</td>\n",
              "      <td>20.265745</td>\n",
              "      <td>low_acidic</td>\n",
              "      <td>Loam</td>\n",
              "      <td>Summer</td>\n",
              "      <td>10.0</td>\n",
              "      <td>10.0</td>\n",
              "      <td>10.0</td>\n",
              "    </tr>\n",
              "    <tr>\n",
              "      <th>4</th>\n",
              "      <td>Strawberry</td>\n",
              "      <td>Moderate</td>\n",
              "      <td>Day Neutral</td>\n",
              "      <td>21.444490</td>\n",
              "      <td>806.531455</td>\n",
              "      <td>6.384368</td>\n",
              "      <td>13.312915</td>\n",
              "      <td>512.747307</td>\n",
              "      <td>92.354829</td>\n",
              "      <td>182.935334</td>\n",
              "      <td>126.088234</td>\n",
              "      <td>243.880364</td>\n",
              "      <td>20.397336</td>\n",
              "      <td>low_acidic</td>\n",
              "      <td>Loam</td>\n",
              "      <td>Spring</td>\n",
              "      <td>10.0</td>\n",
              "      <td>10.0</td>\n",
              "      <td>10.0</td>\n",
              "    </tr>\n",
              "  </tbody>\n",
              "</table>\n",
              "</div>\n",
              "    <div class=\"colab-df-buttons\">\n",
              "\n",
              "  <div class=\"colab-df-container\">\n",
              "    <button class=\"colab-df-convert\" onclick=\"convertToInteractive('df-0497e650-d329-4e18-b0d2-6c42c2016eeb')\"\n",
              "            title=\"Convert this dataframe to an interactive table.\"\n",
              "            style=\"display:none;\">\n",
              "\n",
              "  <svg xmlns=\"http://www.w3.org/2000/svg\" height=\"24px\" viewBox=\"0 -960 960 960\">\n",
              "    <path d=\"M120-120v-720h720v720H120Zm60-500h600v-160H180v160Zm220 220h160v-160H400v160Zm0 220h160v-160H400v160ZM180-400h160v-160H180v160Zm440 0h160v-160H620v160ZM180-180h160v-160H180v160Zm440 0h160v-160H620v160Z\"/>\n",
              "  </svg>\n",
              "    </button>\n",
              "\n",
              "  <style>\n",
              "    .colab-df-container {\n",
              "      display:flex;\n",
              "      gap: 12px;\n",
              "    }\n",
              "\n",
              "    .colab-df-convert {\n",
              "      background-color: #E8F0FE;\n",
              "      border: none;\n",
              "      border-radius: 50%;\n",
              "      cursor: pointer;\n",
              "      display: none;\n",
              "      fill: #1967D2;\n",
              "      height: 32px;\n",
              "      padding: 0 0 0 0;\n",
              "      width: 32px;\n",
              "    }\n",
              "\n",
              "    .colab-df-convert:hover {\n",
              "      background-color: #E2EBFA;\n",
              "      box-shadow: 0px 1px 2px rgba(60, 64, 67, 0.3), 0px 1px 3px 1px rgba(60, 64, 67, 0.15);\n",
              "      fill: #174EA6;\n",
              "    }\n",
              "\n",
              "    .colab-df-buttons div {\n",
              "      margin-bottom: 4px;\n",
              "    }\n",
              "\n",
              "    [theme=dark] .colab-df-convert {\n",
              "      background-color: #3B4455;\n",
              "      fill: #D2E3FC;\n",
              "    }\n",
              "\n",
              "    [theme=dark] .colab-df-convert:hover {\n",
              "      background-color: #434B5C;\n",
              "      box-shadow: 0px 1px 3px 1px rgba(0, 0, 0, 0.15);\n",
              "      filter: drop-shadow(0px 1px 2px rgba(0, 0, 0, 0.3));\n",
              "      fill: #FFFFFF;\n",
              "    }\n",
              "  </style>\n",
              "\n",
              "    <script>\n",
              "      const buttonEl =\n",
              "        document.querySelector('#df-0497e650-d329-4e18-b0d2-6c42c2016eeb button.colab-df-convert');\n",
              "      buttonEl.style.display =\n",
              "        google.colab.kernel.accessAllowed ? 'block' : 'none';\n",
              "\n",
              "      async function convertToInteractive(key) {\n",
              "        const element = document.querySelector('#df-0497e650-d329-4e18-b0d2-6c42c2016eeb');\n",
              "        const dataTable =\n",
              "          await google.colab.kernel.invokeFunction('convertToInteractive',\n",
              "                                                    [key], {});\n",
              "        if (!dataTable) return;\n",
              "\n",
              "        const docLinkHtml = 'Like what you see? Visit the ' +\n",
              "          '<a target=\"_blank\" href=https://colab.research.google.com/notebooks/data_table.ipynb>data table notebook</a>'\n",
              "          + ' to learn more about interactive tables.';\n",
              "        element.innerHTML = '';\n",
              "        dataTable['output_type'] = 'display_data';\n",
              "        await google.colab.output.renderOutput(dataTable, element);\n",
              "        const docLink = document.createElement('div');\n",
              "        docLink.innerHTML = docLinkHtml;\n",
              "        element.appendChild(docLink);\n",
              "      }\n",
              "    </script>\n",
              "  </div>\n",
              "\n",
              "\n",
              "    <div id=\"df-eead22b8-b024-4a4c-9166-b61521199abb\">\n",
              "      <button class=\"colab-df-quickchart\" onclick=\"quickchart('df-eead22b8-b024-4a4c-9166-b61521199abb')\"\n",
              "                title=\"Suggest charts\"\n",
              "                style=\"display:none;\">\n",
              "\n",
              "<svg xmlns=\"http://www.w3.org/2000/svg\" height=\"24px\"viewBox=\"0 0 24 24\"\n",
              "     width=\"24px\">\n",
              "    <g>\n",
              "        <path d=\"M19 3H5c-1.1 0-2 .9-2 2v14c0 1.1.9 2 2 2h14c1.1 0 2-.9 2-2V5c0-1.1-.9-2-2-2zM9 17H7v-7h2v7zm4 0h-2V7h2v10zm4 0h-2v-4h2v4z\"/>\n",
              "    </g>\n",
              "</svg>\n",
              "      </button>\n",
              "\n",
              "<style>\n",
              "  .colab-df-quickchart {\n",
              "      --bg-color: #E8F0FE;\n",
              "      --fill-color: #1967D2;\n",
              "      --hover-bg-color: #E2EBFA;\n",
              "      --hover-fill-color: #174EA6;\n",
              "      --disabled-fill-color: #AAA;\n",
              "      --disabled-bg-color: #DDD;\n",
              "  }\n",
              "\n",
              "  [theme=dark] .colab-df-quickchart {\n",
              "      --bg-color: #3B4455;\n",
              "      --fill-color: #D2E3FC;\n",
              "      --hover-bg-color: #434B5C;\n",
              "      --hover-fill-color: #FFFFFF;\n",
              "      --disabled-bg-color: #3B4455;\n",
              "      --disabled-fill-color: #666;\n",
              "  }\n",
              "\n",
              "  .colab-df-quickchart {\n",
              "    background-color: var(--bg-color);\n",
              "    border: none;\n",
              "    border-radius: 50%;\n",
              "    cursor: pointer;\n",
              "    display: none;\n",
              "    fill: var(--fill-color);\n",
              "    height: 32px;\n",
              "    padding: 0;\n",
              "    width: 32px;\n",
              "  }\n",
              "\n",
              "  .colab-df-quickchart:hover {\n",
              "    background-color: var(--hover-bg-color);\n",
              "    box-shadow: 0 1px 2px rgba(60, 64, 67, 0.3), 0 1px 3px 1px rgba(60, 64, 67, 0.15);\n",
              "    fill: var(--button-hover-fill-color);\n",
              "  }\n",
              "\n",
              "  .colab-df-quickchart-complete:disabled,\n",
              "  .colab-df-quickchart-complete:disabled:hover {\n",
              "    background-color: var(--disabled-bg-color);\n",
              "    fill: var(--disabled-fill-color);\n",
              "    box-shadow: none;\n",
              "  }\n",
              "\n",
              "  .colab-df-spinner {\n",
              "    border: 2px solid var(--fill-color);\n",
              "    border-color: transparent;\n",
              "    border-bottom-color: var(--fill-color);\n",
              "    animation:\n",
              "      spin 1s steps(1) infinite;\n",
              "  }\n",
              "\n",
              "  @keyframes spin {\n",
              "    0% {\n",
              "      border-color: transparent;\n",
              "      border-bottom-color: var(--fill-color);\n",
              "      border-left-color: var(--fill-color);\n",
              "    }\n",
              "    20% {\n",
              "      border-color: transparent;\n",
              "      border-left-color: var(--fill-color);\n",
              "      border-top-color: var(--fill-color);\n",
              "    }\n",
              "    30% {\n",
              "      border-color: transparent;\n",
              "      border-left-color: var(--fill-color);\n",
              "      border-top-color: var(--fill-color);\n",
              "      border-right-color: var(--fill-color);\n",
              "    }\n",
              "    40% {\n",
              "      border-color: transparent;\n",
              "      border-right-color: var(--fill-color);\n",
              "      border-top-color: var(--fill-color);\n",
              "    }\n",
              "    60% {\n",
              "      border-color: transparent;\n",
              "      border-right-color: var(--fill-color);\n",
              "    }\n",
              "    80% {\n",
              "      border-color: transparent;\n",
              "      border-right-color: var(--fill-color);\n",
              "      border-bottom-color: var(--fill-color);\n",
              "    }\n",
              "    90% {\n",
              "      border-color: transparent;\n",
              "      border-bottom-color: var(--fill-color);\n",
              "    }\n",
              "  }\n",
              "</style>\n",
              "\n",
              "      <script>\n",
              "        async function quickchart(key) {\n",
              "          const quickchartButtonEl =\n",
              "            document.querySelector('#' + key + ' button');\n",
              "          quickchartButtonEl.disabled = true;  // To prevent multiple clicks.\n",
              "          quickchartButtonEl.classList.add('colab-df-spinner');\n",
              "          try {\n",
              "            const charts = await google.colab.kernel.invokeFunction(\n",
              "                'suggestCharts', [key], {});\n",
              "          } catch (error) {\n",
              "            console.error('Error during call to suggestCharts:', error);\n",
              "          }\n",
              "          quickchartButtonEl.classList.remove('colab-df-spinner');\n",
              "          quickchartButtonEl.classList.add('colab-df-quickchart-complete');\n",
              "        }\n",
              "        (() => {\n",
              "          let quickchartButtonEl =\n",
              "            document.querySelector('#df-eead22b8-b024-4a4c-9166-b61521199abb button');\n",
              "          quickchartButtonEl.style.display =\n",
              "            google.colab.kernel.accessAllowed ? 'block' : 'none';\n",
              "        })();\n",
              "      </script>\n",
              "    </div>\n",
              "\n",
              "    </div>\n",
              "  </div>\n"
            ],
            "application/vnd.google.colaboratory.intrinsic+json": {
              "type": "dataframe",
              "variable_name": "df",
              "summary": "{\n  \"name\": \"df\",\n  \"rows\": 15400,\n  \"fields\": [\n    {\n      \"column\": \"Name\",\n      \"properties\": {\n        \"dtype\": \"category\",\n        \"num_unique_values\": 22,\n        \"samples\": [\n          \"Strawberry\",\n          \"Eggplants\",\n          \"Kale\"\n        ],\n        \"semantic_type\": \"\",\n        \"description\": \"\"\n      }\n    },\n    {\n      \"column\": \"Fertility\",\n      \"properties\": {\n        \"dtype\": \"category\",\n        \"num_unique_values\": 2,\n        \"samples\": [\n          \"High\",\n          \"Moderate\"\n        ],\n        \"semantic_type\": \"\",\n        \"description\": \"\"\n      }\n    },\n    {\n      \"column\": \"Photoperiod\",\n      \"properties\": {\n        \"dtype\": \"category\",\n        \"num_unique_values\": 3,\n        \"samples\": [\n          \"Day Neutral\",\n          \"Short Day Period\"\n        ],\n        \"semantic_type\": \"\",\n        \"description\": \"\"\n      }\n    },\n    {\n      \"column\": \"Temperature\",\n      \"properties\": {\n        \"dtype\": \"number\",\n        \"std\": 4.41516380924344,\n        \"min\": 9.35590836271303,\n        \"max\": 39.9138922113644,\n        \"num_unique_values\": 15400,\n        \"samples\": [\n          15.47119684361,\n          17.9947838732316\n        ],\n        \"semantic_type\": \"\",\n        \"description\": \"\"\n      }\n    },\n    {\n      \"column\": \"Rainfall\",\n      \"properties\": {\n        \"dtype\": \"number\",\n        \"std\": 340.88449291683156,\n        \"min\": 409.927161248243,\n        \"max\": 2508.05284944019,\n        \"num_unique_values\": 15400,\n        \"samples\": [\n          795.502019219923,\n          1165.42319256974\n        ],\n        \"semantic_type\": \"\",\n        \"description\": \"\"\n      }\n    },\n    {\n      \"column\": \"pH\",\n      \"properties\": {\n        \"dtype\": \"number\",\n        \"std\": 0.44911092273170006,\n        \"min\": 4.88887063325677,\n        \"max\": 8.02321047970045,\n        \"num_unique_values\": 15400,\n        \"samples\": [\n          6.32213012775401,\n          7.30314815002554\n        ],\n        \"semantic_type\": \"\",\n        \"description\": \"\"\n      }\n    },\n    {\n      \"column\": \"Light_Hours\",\n      \"properties\": {\n        \"dtype\": \"number\",\n        \"std\": 2.5884659209199983,\n        \"min\": 5.04491253372205,\n        \"max\": 15.9180242411735,\n        \"num_unique_values\": 15400,\n        \"samples\": [\n          12.9708106646338,\n          12.7359928647163\n        ],\n        \"semantic_type\": \"\",\n        \"description\": \"\"\n      }\n    },\n    {\n      \"column\": \"Light_Intensity\",\n      \"properties\": {\n        \"dtype\": \"number\",\n        \"std\": 190.51217288377208,\n        \"min\": 69.1465719574886,\n        \"max\": 985.186247230512,\n        \"num_unique_values\": 15400,\n        \"samples\": [\n          548.431589585746,\n          278.497330872267\n        ],\n        \"semantic_type\": \"\",\n        \"description\": \"\"\n      }\n    },\n    {\n      \"column\": \"Rh\",\n      \"properties\": {\n        \"dtype\": \"number\",\n        \"std\": 19.005232649052054,\n        \"min\": 29.8772655118071,\n        \"max\": 99.9274393505675,\n        \"num_unique_values\": 15400,\n        \"samples\": [\n          91.4977074963061,\n          44.7156463615524\n        ],\n        \"semantic_type\": \"\",\n        \"description\": \"\"\n      }\n    },\n    {\n      \"column\": \"Nitrogen\",\n      \"properties\": {\n        \"dtype\": \"number\",\n        \"std\": 58.52459244651768,\n        \"min\": 41.7255523602251,\n        \"max\": 409.639573237999,\n        \"num_unique_values\": 15400,\n        \"samples\": [\n          184.164949065111,\n          56.41026202732\n        ],\n        \"semantic_type\": \"\",\n        \"description\": \"\"\n      }\n    },\n    {\n      \"column\": \"Phosphorus\",\n      \"properties\": {\n        \"dtype\": \"number\",\n        \"std\": 72.77828367799121,\n        \"min\": 13.1551905254398,\n        \"max\": 360.043618676927,\n        \"num_unique_values\": 15400,\n        \"samples\": [\n          118.051797548398,\n          129.358653174176\n        ],\n        \"semantic_type\": \"\",\n        \"description\": \"\"\n      }\n    },\n    {\n      \"column\": \"Potassium\",\n      \"properties\": {\n        \"dtype\": \"number\",\n        \"std\": 103.989340076807,\n        \"min\": 34.9823294470462,\n        \"max\": 579.953931208052,\n        \"num_unique_values\": 15400,\n        \"samples\": [\n          245.392037916906,\n          157.052680177053\n        ],\n        \"semantic_type\": \"\",\n        \"description\": \"\"\n      }\n    },\n    {\n      \"column\": \"Yield\",\n      \"properties\": {\n        \"dtype\": \"number\",\n        \"std\": 15.541413898764631,\n        \"min\": 0.770212659907174,\n        \"max\": 66.6192416580181,\n        \"num_unique_values\": 15400,\n        \"samples\": [\n          19.5254184029043,\n          18.2599316738892\n        ],\n        \"semantic_type\": \"\",\n        \"description\": \"\"\n      }\n    },\n    {\n      \"column\": \"Category_pH\",\n      \"properties\": {\n        \"dtype\": \"category\",\n        \"num_unique_values\": 3,\n        \"samples\": [\n          \"low_acidic\",\n          \"neutral\"\n        ],\n        \"semantic_type\": \"\",\n        \"description\": \"\"\n      }\n    },\n    {\n      \"column\": \"Soil_Type\",\n      \"properties\": {\n        \"dtype\": \"category\",\n        \"num_unique_values\": 3,\n        \"samples\": [\n          \"Loam\",\n          \"Sandy Loam\"\n        ],\n        \"semantic_type\": \"\",\n        \"description\": \"\"\n      }\n    },\n    {\n      \"column\": \"Season\",\n      \"properties\": {\n        \"dtype\": \"category\",\n        \"num_unique_values\": 4,\n        \"samples\": [\n          \"Spring\",\n          \"Winter\"\n        ],\n        \"semantic_type\": \"\",\n        \"description\": \"\"\n      }\n    },\n    {\n      \"column\": \"N_Ratio\",\n      \"properties\": {\n        \"dtype\": \"number\",\n        \"std\": 14.028173011912212,\n        \"min\": 5.0,\n        \"max\": 75.0,\n        \"num_unique_values\": 6,\n        \"samples\": [\n          10.0,\n          75.0\n        ],\n        \"semantic_type\": \"\",\n        \"description\": \"\"\n      }\n    },\n    {\n      \"column\": \"P_Ratio\",\n      \"properties\": {\n        \"dtype\": \"number\",\n        \"std\": 5.761853286647495,\n        \"min\": 10.0,\n        \"max\": 37.5,\n        \"num_unique_values\": 5,\n        \"samples\": [\n          37.5,\n          13.0\n        ],\n        \"semantic_type\": \"\",\n        \"description\": \"\"\n      }\n    },\n    {\n      \"column\": \"K_Ratio\",\n      \"properties\": {\n        \"dtype\": \"number\",\n        \"std\": 7.805375975157475,\n        \"min\": 5.0,\n        \"max\": 37.5,\n        \"num_unique_values\": 5,\n        \"samples\": [\n          37.5,\n          36.0\n        ],\n        \"semantic_type\": \"\",\n        \"description\": \"\"\n      }\n    }\n  ]\n}"
            }
          },
          "metadata": {},
          "execution_count": 6
        }
      ]
    },
    {
      "cell_type": "markdown",
      "source": [
        "**NumPy** - numerical python\n",
        "1. allows several mathematical operations\n",
        "2. faster opertions"
      ],
      "metadata": {
        "id": "Az8S2U3J8oxV"
      }
    },
    {
      "cell_type": "code",
      "source": [
        "import numpy as np"
      ],
      "metadata": {
        "id": "qXUOQ5W-9JL2"
      },
      "execution_count": null,
      "outputs": []
    },
    {
      "cell_type": "markdown",
      "source": [
        "numpy arrays"
      ],
      "metadata": {
        "id": "bMRvuUaciOW8"
      }
    },
    {
      "cell_type": "code",
      "source": [
        "np_array = np.array([1,2,3,4,5])\n",
        "print(np_array)\n",
        "type(np_array)"
      ],
      "metadata": {
        "id": "LGkfbzWR9iqG",
        "colab": {
          "base_uri": "https://localhost:8080/"
        },
        "outputId": "624b6549-712c-4467-d7bd-cdaaf2ea232a"
      },
      "execution_count": null,
      "outputs": [
        {
          "output_type": "stream",
          "name": "stdout",
          "text": [
            "[1 2 3 4 5]\n"
          ]
        },
        {
          "output_type": "execute_result",
          "data": {
            "text/plain": [
              "numpy.ndarray"
            ]
          },
          "metadata": {},
          "execution_count": 8
        }
      ]
    },
    {
      "cell_type": "markdown",
      "source": [
        "creating one dimensional array"
      ],
      "metadata": {
        "id": "uigFkndriqze"
      }
    },
    {
      "cell_type": "code",
      "source": [
        "a = np.array([1,2,3,4,5])\n",
        "print(a)"
      ],
      "metadata": {
        "colab": {
          "base_uri": "https://localhost:8080/"
        },
        "id": "K497PKpeigdR",
        "outputId": "bdcd9619-6e19-4a67-fbc1-6c5c268bd685"
      },
      "execution_count": null,
      "outputs": [
        {
          "output_type": "stream",
          "name": "stdout",
          "text": [
            "[1 2 3 4 5]\n"
          ]
        }
      ]
    },
    {
      "cell_type": "code",
      "source": [
        "a.shape"
      ],
      "metadata": {
        "colab": {
          "base_uri": "https://localhost:8080/"
        },
        "id": "cA7zV_9Ii29Z",
        "outputId": "d19c6e37-ae74-4e22-c8d2-2217203abf34"
      },
      "execution_count": null,
      "outputs": [
        {
          "output_type": "execute_result",
          "data": {
            "text/plain": [
              "(5,)"
            ]
          },
          "metadata": {},
          "execution_count": 10
        }
      ]
    },
    {
      "cell_type": "markdown",
      "source": [
        "creating a 2 dimensional array"
      ],
      "metadata": {
        "id": "yctY5ADti8o7"
      }
    },
    {
      "cell_type": "code",
      "source": [
        "b = np.array([[1,2,3,4,5],[6,7,8,9,10]])\n",
        "print(b)"
      ],
      "metadata": {
        "colab": {
          "base_uri": "https://localhost:8080/"
        },
        "id": "b_b4iZb8i5Z0",
        "outputId": "46add5c5-b1cf-4678-deac-7c67d863b97b"
      },
      "execution_count": null,
      "outputs": [
        {
          "output_type": "stream",
          "name": "stdout",
          "text": [
            "[[ 1  2  3  4  5]\n",
            " [ 6  7  8  9 10]]\n"
          ]
        }
      ]
    },
    {
      "cell_type": "code",
      "source": [
        "b.shape"
      ],
      "metadata": {
        "colab": {
          "base_uri": "https://localhost:8080/"
        },
        "id": "vTHKXZDAjDZm",
        "outputId": "e9fd2d40-43ec-4f4f-f164-bbf57bfc7ef5"
      },
      "execution_count": null,
      "outputs": [
        {
          "output_type": "execute_result",
          "data": {
            "text/plain": [
              "(2, 5)"
            ]
          },
          "metadata": {},
          "execution_count": 12
        }
      ]
    },
    {
      "cell_type": "code",
      "source": [
        "c = np.array([(1,2,3,4,),(5,6,7,8)],dtype=float)\n",
        "print(c)"
      ],
      "metadata": {
        "colab": {
          "base_uri": "https://localhost:8080/"
        },
        "id": "v-EMPVCTjFko",
        "outputId": "7b447a56-d00e-4d26-f581-d50a2e89c977"
      },
      "execution_count": null,
      "outputs": [
        {
          "output_type": "stream",
          "name": "stdout",
          "text": [
            "[[1. 2. 3. 4.]\n",
            " [5. 6. 7. 8.]]\n"
          ]
        }
      ]
    },
    {
      "cell_type": "markdown",
      "source": [
        "initial placeholders in numpy arrays"
      ],
      "metadata": {
        "id": "bZgbao10jp1O"
      }
    },
    {
      "cell_type": "code",
      "source": [
        "x = np.zeros((4,5))\n",
        "print(x)"
      ],
      "metadata": {
        "colab": {
          "base_uri": "https://localhost:8080/"
        },
        "id": "axNR5SFMjidg",
        "outputId": "adbe6472-3eba-44ff-deaa-76780478758a"
      },
      "execution_count": null,
      "outputs": [
        {
          "output_type": "stream",
          "name": "stdout",
          "text": [
            "[[0. 0. 0. 0. 0.]\n",
            " [0. 0. 0. 0. 0.]\n",
            " [0. 0. 0. 0. 0.]\n",
            " [0. 0. 0. 0. 0.]]\n"
          ]
        }
      ]
    },
    {
      "cell_type": "code",
      "source": [
        "y = np.ones((5,5))\n",
        "print(y)"
      ],
      "metadata": {
        "colab": {
          "base_uri": "https://localhost:8080/"
        },
        "id": "FqHlm7Kuj8Mz",
        "outputId": "a36a9816-05f9-4dd7-f3ac-24fd23bd66ad"
      },
      "execution_count": null,
      "outputs": [
        {
          "output_type": "stream",
          "name": "stdout",
          "text": [
            "[[1. 1. 1. 1. 1.]\n",
            " [1. 1. 1. 1. 1.]\n",
            " [1. 1. 1. 1. 1.]\n",
            " [1. 1. 1. 1. 1.]\n",
            " [1. 1. 1. 1. 1.]]\n"
          ]
        }
      ]
    },
    {
      "cell_type": "code",
      "source": [
        "z = np.full((5,4),5)\n",
        "print(z)"
      ],
      "metadata": {
        "colab": {
          "base_uri": "https://localhost:8080/"
        },
        "id": "IATdBGCGkJ9n",
        "outputId": "70210bf7-14e6-4a0a-c978-7fb4d620e73a"
      },
      "execution_count": null,
      "outputs": [
        {
          "output_type": "stream",
          "name": "stdout",
          "text": [
            "[[5 5 5 5]\n",
            " [5 5 5 5]\n",
            " [5 5 5 5]\n",
            " [5 5 5 5]\n",
            " [5 5 5 5]]\n"
          ]
        }
      ]
    },
    {
      "cell_type": "code",
      "source": [
        "#making an identity matrix\n",
        "a = np.eye(4)\n",
        "print(a)"
      ],
      "metadata": {
        "colab": {
          "base_uri": "https://localhost:8080/"
        },
        "id": "VkXQv8c5kbAe",
        "outputId": "4e1054ba-0bb2-4bc6-caf3-fa3fae7b428a"
      },
      "execution_count": null,
      "outputs": [
        {
          "output_type": "stream",
          "name": "stdout",
          "text": [
            "[[1. 0. 0. 0.]\n",
            " [0. 1. 0. 0.]\n",
            " [0. 0. 1. 0.]\n",
            " [0. 0. 0. 1.]]\n"
          ]
        }
      ]
    },
    {
      "cell_type": "markdown",
      "source": [
        "creating a numpy array with random values"
      ],
      "metadata": {
        "id": "2p1pazZZlYo_"
      }
    },
    {
      "cell_type": "code",
      "source": [
        "d = np.random.random((3,4))\n",
        "print(d)"
      ],
      "metadata": {
        "colab": {
          "base_uri": "https://localhost:8080/"
        },
        "id": "SIvQyFhSlP8A",
        "outputId": "88081638-2995-4065-c68c-bb5bf3123dba"
      },
      "execution_count": null,
      "outputs": [
        {
          "output_type": "stream",
          "name": "stdout",
          "text": [
            "[[0.08275816 0.62264281 0.31332319 0.64760347]\n",
            " [0.54697521 0.70939797 0.63565719 0.1363742 ]\n",
            " [0.18924213 0.82515646 0.4379765  0.81467509]]\n"
          ]
        }
      ]
    },
    {
      "cell_type": "markdown",
      "source": [
        "randomn interger value within a specific range"
      ],
      "metadata": {
        "id": "qXmv4GpGpL-G"
      }
    },
    {
      "cell_type": "code",
      "source": [
        "import numpy as np\n",
        "e = np.random.randint(10,100,(3,5))"
      ],
      "metadata": {
        "id": "muqRC9L0lj1R"
      },
      "execution_count": null,
      "outputs": []
    },
    {
      "cell_type": "code",
      "source": [
        "print(e)"
      ],
      "metadata": {
        "colab": {
          "base_uri": "https://localhost:8080/"
        },
        "id": "eLizrlxBpb6E",
        "outputId": "6fb86f94-4daf-4bdc-c687-a7ea30c27f78"
      },
      "execution_count": null,
      "outputs": [
        {
          "output_type": "stream",
          "name": "stdout",
          "text": [
            "[[55 42 30 37 59]\n",
            " [71 83 14 83 10]\n",
            " [90 58 33 36 50]]\n"
          ]
        }
      ]
    },
    {
      "cell_type": "markdown",
      "source": [
        "array of evenly spaced values"
      ],
      "metadata": {
        "id": "jOrH0BNCpwnR"
      }
    },
    {
      "cell_type": "code",
      "source": [
        "f = np.linspace(10,30,5)\n",
        "print(f)"
      ],
      "metadata": {
        "colab": {
          "base_uri": "https://localhost:8080/"
        },
        "id": "CwzUo_AqpoUy",
        "outputId": "92deb678-9bf0-4682-d7f2-8a7d631fda65"
      },
      "execution_count": null,
      "outputs": [
        {
          "output_type": "stream",
          "name": "stdout",
          "text": [
            "[10. 15. 20. 25. 30.]\n"
          ]
        }
      ]
    },
    {
      "cell_type": "markdown",
      "source": [
        "array of evenly spaced values --> specifying the step"
      ],
      "metadata": {
        "id": "Oy37qrLlqOQ4"
      }
    },
    {
      "cell_type": "code",
      "source": [
        "g = np.arange(10,30,5)\n",
        "print(g)"
      ],
      "metadata": {
        "colab": {
          "base_uri": "https://localhost:8080/"
        },
        "id": "G8_40wThp4vz",
        "outputId": "32dd03a0-1777-4559-c6f7-9b1b84c5301d"
      },
      "execution_count": null,
      "outputs": [
        {
          "output_type": "stream",
          "name": "stdout",
          "text": [
            "[10 15 20 25]\n"
          ]
        }
      ]
    },
    {
      "cell_type": "markdown",
      "source": [
        "convert a list to numpy array"
      ],
      "metadata": {
        "id": "_fnaKvlDqw6O"
      }
    },
    {
      "cell_type": "code",
      "source": [
        "list2 = [10,20,20,20,50]\n",
        "np_array = np.asarray(list2)\n",
        "print(np_array)\n",
        "type(np_array)"
      ],
      "metadata": {
        "colab": {
          "base_uri": "https://localhost:8080/"
        },
        "id": "jsHH-vNgqdfO",
        "outputId": "3b054dfa-9fd9-47fe-ee3f-53c67c506d71"
      },
      "execution_count": null,
      "outputs": [
        {
          "output_type": "stream",
          "name": "stdout",
          "text": [
            "[10 20 20 20 50]\n"
          ]
        },
        {
          "output_type": "execute_result",
          "data": {
            "text/plain": [
              "numpy.ndarray"
            ]
          },
          "metadata": {},
          "execution_count": 8
        }
      ]
    },
    {
      "cell_type": "markdown",
      "source": [
        "analysing a numpy array"
      ],
      "metadata": {
        "id": "JRwyjN2BrN8T"
      }
    },
    {
      "cell_type": "code",
      "source": [
        "c = np.random.randint(10,90,(5,5))\n",
        "print(c)"
      ],
      "metadata": {
        "colab": {
          "base_uri": "https://localhost:8080/"
        },
        "id": "uKzfaetPrJND",
        "outputId": "28337227-4de7-4f6c-f3fe-a7b5625a4c87"
      },
      "execution_count": null,
      "outputs": [
        {
          "output_type": "stream",
          "name": "stdout",
          "text": [
            "[[87 64 76 15 87]\n",
            " [74 24 58 37 13]\n",
            " [40 20 23 21 27]\n",
            " [80 61 22 46 80]\n",
            " [20 89 66 37 80]]\n"
          ]
        }
      ]
    },
    {
      "cell_type": "code",
      "source": [
        "#array dimension\n",
        "print(c.shape)"
      ],
      "metadata": {
        "colab": {
          "base_uri": "https://localhost:8080/"
        },
        "id": "kqu3SAsrrWUZ",
        "outputId": "86e90613-07a9-4998-a70c-912e36aaffbf"
      },
      "execution_count": null,
      "outputs": [
        {
          "output_type": "stream",
          "name": "stdout",
          "text": [
            "(5, 5)\n"
          ]
        }
      ]
    },
    {
      "cell_type": "code",
      "source": [
        "#number of dimensions\n",
        "print(c.ndim)"
      ],
      "metadata": {
        "colab": {
          "base_uri": "https://localhost:8080/"
        },
        "id": "9R4IpOFKrl36",
        "outputId": "8c721c86-b584-4dd1-a72b-77e0c6f688da"
      },
      "execution_count": null,
      "outputs": [
        {
          "output_type": "stream",
          "name": "stdout",
          "text": [
            "2\n"
          ]
        }
      ]
    },
    {
      "cell_type": "code",
      "source": [
        "#number of elements in an array\n",
        "print(c.size)"
      ],
      "metadata": {
        "colab": {
          "base_uri": "https://localhost:8080/"
        },
        "id": "vC87kWxcrsxH",
        "outputId": "267a974f-99b6-44d6-88e7-4eb446ef1738"
      },
      "execution_count": null,
      "outputs": [
        {
          "output_type": "stream",
          "name": "stdout",
          "text": [
            "25\n"
          ]
        }
      ]
    },
    {
      "cell_type": "code",
      "source": [
        "#checking the data type of values in the array\n",
        "print(c.dtype)"
      ],
      "metadata": {
        "colab": {
          "base_uri": "https://localhost:8080/"
        },
        "id": "pxnxW4tAr6ze",
        "outputId": "1f19f668-ac51-42cb-dfa5-252dece802d0"
      },
      "execution_count": null,
      "outputs": [
        {
          "output_type": "stream",
          "name": "stdout",
          "text": [
            "int64\n"
          ]
        }
      ]
    },
    {
      "cell_type": "markdown",
      "source": [
        "mathematical operations on np array"
      ],
      "metadata": {
        "id": "vVyaRFC2skCC"
      }
    },
    {
      "cell_type": "code",
      "source": [
        "list1 = [1,2,3,4,5]\n",
        "list2 = [6,7,8,9,10]\n",
        "print(list1 + list2)      #only concatinates the two lists"
      ],
      "metadata": {
        "colab": {
          "base_uri": "https://localhost:8080/"
        },
        "id": "_MXd2h6osHMt",
        "outputId": "603ccb8a-96c6-404c-b08f-591416982c80"
      },
      "execution_count": null,
      "outputs": [
        {
          "output_type": "stream",
          "name": "stdout",
          "text": [
            "[1, 2, 3, 4, 5, 6, 7, 8, 9, 10]\n"
          ]
        }
      ]
    },
    {
      "cell_type": "code",
      "source": [
        "a = np.random.randint(0,10,(3,3))\n",
        "b = np.random.randint(10,20,(3,3))"
      ],
      "metadata": {
        "id": "EBf5pfjLs24X"
      },
      "execution_count": null,
      "outputs": []
    },
    {
      "cell_type": "code",
      "source": [
        "print(a)\n",
        "print(b)"
      ],
      "metadata": {
        "colab": {
          "base_uri": "https://localhost:8080/"
        },
        "id": "JCRVapvStGkU",
        "outputId": "b036f3e4-2cd1-40d7-ca43-f6798045aaca"
      },
      "execution_count": null,
      "outputs": [
        {
          "output_type": "stream",
          "name": "stdout",
          "text": [
            "[[1 5 2]\n",
            " [4 1 5]\n",
            " [4 9 8]]\n",
            "[[18 18 12]\n",
            " [15 12 11]\n",
            " [19 13 11]]\n"
          ]
        }
      ]
    },
    {
      "cell_type": "code",
      "source": [
        "print(a+b)\n",
        "print(a-b)\n",
        "print(a*b)\n",
        "print(a/b)\n",
        "#here in np array basic operations occur like this"
      ],
      "metadata": {
        "colab": {
          "base_uri": "https://localhost:8080/"
        },
        "id": "g-tSVvH4tJ6L",
        "outputId": "2e6730be-5af9-49d9-b226-2c4b66bab8c9"
      },
      "execution_count": null,
      "outputs": [
        {
          "output_type": "stream",
          "name": "stdout",
          "text": [
            "[[19 23 14]\n",
            " [19 13 16]\n",
            " [23 22 19]]\n",
            "[[-17 -13 -10]\n",
            " [-11 -11  -6]\n",
            " [-15  -4  -3]]\n",
            "[[ 18  90  24]\n",
            " [ 60  12  55]\n",
            " [ 76 117  88]]\n",
            "[[0.05555556 0.27777778 0.16666667]\n",
            " [0.26666667 0.08333333 0.45454545]\n",
            " [0.21052632 0.69230769 0.72727273]]\n"
          ]
        }
      ]
    },
    {
      "cell_type": "markdown",
      "source": [
        "array manipulation"
      ],
      "metadata": {
        "id": "R_rr0R1zuBTs"
      }
    },
    {
      "cell_type": "code",
      "source": [
        "array = np.random.randint(0,10,(2,3))\n",
        "print(array)\n",
        "print(array.shape)"
      ],
      "metadata": {
        "colab": {
          "base_uri": "https://localhost:8080/"
        },
        "id": "P3x5ObSttTXM",
        "outputId": "1be1e626-2483-4e2c-dfd4-6d91c2a7f38b"
      },
      "execution_count": null,
      "outputs": [
        {
          "output_type": "stream",
          "name": "stdout",
          "text": [
            "[[6 4 4]\n",
            " [0 6 7]]\n",
            "(2, 3)\n"
          ]
        }
      ]
    },
    {
      "cell_type": "markdown",
      "source": [
        "transpose"
      ],
      "metadata": {
        "id": "VOvMdXceuYAo"
      }
    },
    {
      "cell_type": "code",
      "source": [
        "import numpy as np\n",
        "array = np.random.randint(0,10,(2,3))\n",
        "trans = np.transpose(array)\n",
        "print(trans)\n",
        "print(trans.shape)"
      ],
      "metadata": {
        "id": "IMoTtSPmuK5-",
        "colab": {
          "base_uri": "https://localhost:8080/"
        },
        "outputId": "e09ee3ae-9d6a-438b-f402-f1e5359e1330"
      },
      "execution_count": 2,
      "outputs": [
        {
          "output_type": "stream",
          "name": "stdout",
          "text": [
            "[[1 0]\n",
            " [7 8]\n",
            " [6 4]]\n",
            "(3, 2)\n"
          ]
        }
      ]
    },
    {
      "cell_type": "code",
      "source": [],
      "metadata": {
        "id": "g3l9IjRiKhL6"
      },
      "execution_count": null,
      "outputs": []
    }
  ]
}