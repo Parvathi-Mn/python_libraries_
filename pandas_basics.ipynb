#%%
!conda update -n base -c defaults conda -y
#%%
 !conda install pandas
#%%
import pandas as pd
#%%
s = pd.Series([1,2,3,4,5], index= ['a','b','c','d','e'])
#%%
s
#%%
df = pd.DataFrame({"names" : ['paru','bina','carry','denver','elle'],"marks":[100,23,45,78,76],})
#%%
df
#%%
df = pd.read_csv('data/Crop_recommendation.csv')
#%%
df
#%%
df.head()
#%%
df.info()
#%%
df[["N","ph"]]
#%%
df.dropna()
#%%
 df["zeros"] = [0 for i in range(len(df))]
#%%
df
#%%
import pandas as pd
df = pd.read_csv('data/data_season.csv')
df
#%%
import numpy as np
#%%
 import pandas as pd
 import matplotlib.pyplot as plt
 import seaborn as sns
 import numpy as np
 %matplotlib inline
#%%
df_train = pd.read_csv('data/Crop_recommendation.csv')
#%%
df_train.head()
#%%
df.info()
#%%
df.describe()
#%%
df_train.info()
#%%
df_train.describe()
#%%
df_train.rename(columns={'label': 'Recommended Crop'}, inplace=True)

#%%
df_train.head()
#%%
df_train['Recommended Crop'].unique()
#%%
dummies = pd.get_dummies(df_train['Recommended Crop']).astype(int)
dummies
#%%
   merged = pd.concat([df_train,dummies], axis='columns')
merged
#%%
final = merged.drop(['apple','Recommended Crop'], axis='columns')
final
#%%
df_train = pd.read_csv('data/Crop_recommendation.csv')
df
#%%
